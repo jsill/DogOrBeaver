{
 "cells": [
  {
   "cell_type": "code",
   "execution_count": 1,
   "id": "0fc0bb7d-7487-47fa-8d8a-447d35ca3e8a",
   "metadata": {},
   "outputs": [],
   "source": [
    "import fastai\n",
    "import os\n",
    "from io import BytesIO"
   ]
  },
  {
   "cell_type": "code",
   "execution_count": 9,
   "id": "7e008c92-89e6-457e-a334-0566c0292cb7",
   "metadata": {},
   "outputs": [
    {
     "name": "stdout",
     "output_type": "stream",
     "text": [
      "Collecting voila\n",
      "  Downloading voila-0.5.7-py3-none-any.whl.metadata (9.1 kB)\n",
      "Requirement already satisfied: jupyter-client<9,>=7.4.4 in c:\\users\\joe_s\\anaconda3\\envs\\tf\\lib\\site-packages (from voila) (8.6.1)\n",
      "Requirement already satisfied: jupyter-core>=4.11.0 in c:\\users\\joe_s\\anaconda3\\envs\\tf\\lib\\site-packages (from voila) (5.7.2)\n",
      "Requirement already satisfied: jupyter-server<3,>=2.0.0 in c:\\users\\joe_s\\anaconda3\\envs\\tf\\lib\\site-packages (from voila) (2.14.0)\n",
      "Requirement already satisfied: jupyterlab-server<3,>=2.3.0 in c:\\users\\joe_s\\anaconda3\\envs\\tf\\lib\\site-packages (from voila) (2.26.0)\n",
      "Requirement already satisfied: nbclient>=0.4.0 in c:\\users\\joe_s\\anaconda3\\envs\\tf\\lib\\site-packages (from voila) (0.10.0)\n",
      "Requirement already satisfied: nbconvert<8,>=6.4.5 in c:\\users\\joe_s\\anaconda3\\envs\\tf\\lib\\site-packages (from voila) (7.16.3)\n",
      "Requirement already satisfied: traitlets<6,>=5.0.3 in c:\\users\\joe_s\\anaconda3\\envs\\tf\\lib\\site-packages (from voila) (5.14.2)\n",
      "Collecting websockets>=9.0 (from voila)\n",
      "  Downloading websockets-12.0-cp310-cp310-win_amd64.whl.metadata (6.8 kB)\n",
      "Requirement already satisfied: python-dateutil>=2.8.2 in c:\\users\\joe_s\\anaconda3\\envs\\tf\\lib\\site-packages (from jupyter-client<9,>=7.4.4->voila) (2.9.0)\n",
      "Requirement already satisfied: pyzmq>=23.0 in c:\\users\\joe_s\\anaconda3\\envs\\tf\\lib\\site-packages (from jupyter-client<9,>=7.4.4->voila) (25.1.2)\n",
      "Requirement already satisfied: tornado>=6.2 in c:\\users\\joe_s\\anaconda3\\envs\\tf\\lib\\site-packages (from jupyter-client<9,>=7.4.4->voila) (6.4)\n",
      "Requirement already satisfied: platformdirs>=2.5 in c:\\users\\joe_s\\anaconda3\\envs\\tf\\lib\\site-packages (from jupyter-core>=4.11.0->voila) (4.2.0)\n",
      "Requirement already satisfied: pywin32>=300 in c:\\users\\joe_s\\anaconda3\\envs\\tf\\lib\\site-packages (from jupyter-core>=4.11.0->voila) (306)\n",
      "Requirement already satisfied: anyio>=3.1.0 in c:\\users\\joe_s\\anaconda3\\envs\\tf\\lib\\site-packages (from jupyter-server<3,>=2.0.0->voila) (4.3.0)\n",
      "Requirement already satisfied: argon2-cffi>=21.1 in c:\\users\\joe_s\\anaconda3\\envs\\tf\\lib\\site-packages (from jupyter-server<3,>=2.0.0->voila) (23.1.0)\n",
      "Requirement already satisfied: jinja2>=3.0.3 in c:\\users\\joe_s\\anaconda3\\envs\\tf\\lib\\site-packages (from jupyter-server<3,>=2.0.0->voila) (3.1.3)\n",
      "Requirement already satisfied: jupyter-events>=0.9.0 in c:\\users\\joe_s\\anaconda3\\envs\\tf\\lib\\site-packages (from jupyter-server<3,>=2.0.0->voila) (0.10.0)\n",
      "Requirement already satisfied: jupyter-server-terminals>=0.4.4 in c:\\users\\joe_s\\anaconda3\\envs\\tf\\lib\\site-packages (from jupyter-server<3,>=2.0.0->voila) (0.5.3)\n",
      "Requirement already satisfied: nbformat>=5.3.0 in c:\\users\\joe_s\\anaconda3\\envs\\tf\\lib\\site-packages (from jupyter-server<3,>=2.0.0->voila) (5.10.4)\n",
      "Requirement already satisfied: overrides>=5.0 in c:\\users\\joe_s\\anaconda3\\envs\\tf\\lib\\site-packages (from jupyter-server<3,>=2.0.0->voila) (7.7.0)\n",
      "Requirement already satisfied: packaging>=22.0 in c:\\users\\joe_s\\anaconda3\\envs\\tf\\lib\\site-packages (from jupyter-server<3,>=2.0.0->voila) (23.2)\n",
      "Requirement already satisfied: prometheus-client>=0.9 in c:\\users\\joe_s\\anaconda3\\envs\\tf\\lib\\site-packages (from jupyter-server<3,>=2.0.0->voila) (0.20.0)\n",
      "Requirement already satisfied: pywinpty>=2.0.1 in c:\\users\\joe_s\\anaconda3\\envs\\tf\\lib\\site-packages (from jupyter-server<3,>=2.0.0->voila) (2.0.13)\n",
      "Requirement already satisfied: send2trash>=1.8.2 in c:\\users\\joe_s\\anaconda3\\envs\\tf\\lib\\site-packages (from jupyter-server<3,>=2.0.0->voila) (1.8.3)\n",
      "Requirement already satisfied: terminado>=0.8.3 in c:\\users\\joe_s\\anaconda3\\envs\\tf\\lib\\site-packages (from jupyter-server<3,>=2.0.0->voila) (0.18.1)\n",
      "Requirement already satisfied: websocket-client>=1.7 in c:\\users\\joe_s\\anaconda3\\envs\\tf\\lib\\site-packages (from jupyter-server<3,>=2.0.0->voila) (1.7.0)\n",
      "Requirement already satisfied: babel>=2.10 in c:\\users\\joe_s\\anaconda3\\envs\\tf\\lib\\site-packages (from jupyterlab-server<3,>=2.3.0->voila) (2.14.0)\n",
      "Requirement already satisfied: json5>=0.9.0 in c:\\users\\joe_s\\anaconda3\\envs\\tf\\lib\\site-packages (from jupyterlab-server<3,>=2.3.0->voila) (0.9.25)\n",
      "Requirement already satisfied: jsonschema>=4.18.0 in c:\\users\\joe_s\\anaconda3\\envs\\tf\\lib\\site-packages (from jupyterlab-server<3,>=2.3.0->voila) (4.21.1)\n",
      "Requirement already satisfied: requests>=2.31 in c:\\users\\joe_s\\anaconda3\\envs\\tf\\lib\\site-packages (from jupyterlab-server<3,>=2.3.0->voila) (2.31.0)\n",
      "Requirement already satisfied: beautifulsoup4 in c:\\users\\joe_s\\anaconda3\\envs\\tf\\lib\\site-packages (from nbconvert<8,>=6.4.5->voila) (4.12.3)\n",
      "Requirement already satisfied: bleach!=5.0.0 in c:\\users\\joe_s\\anaconda3\\envs\\tf\\lib\\site-packages (from nbconvert<8,>=6.4.5->voila) (6.1.0)\n",
      "Requirement already satisfied: defusedxml in c:\\users\\joe_s\\anaconda3\\envs\\tf\\lib\\site-packages (from nbconvert<8,>=6.4.5->voila) (0.7.1)\n",
      "Requirement already satisfied: jupyterlab-pygments in c:\\users\\joe_s\\anaconda3\\envs\\tf\\lib\\site-packages (from nbconvert<8,>=6.4.5->voila) (0.3.0)\n",
      "Requirement already satisfied: markupsafe>=2.0 in c:\\users\\joe_s\\anaconda3\\envs\\tf\\lib\\site-packages (from nbconvert<8,>=6.4.5->voila) (2.1.3)\n",
      "Requirement already satisfied: mistune<4,>=2.0.3 in c:\\users\\joe_s\\anaconda3\\envs\\tf\\lib\\site-packages (from nbconvert<8,>=6.4.5->voila) (3.0.2)\n",
      "Requirement already satisfied: pandocfilters>=1.4.1 in c:\\users\\joe_s\\anaconda3\\envs\\tf\\lib\\site-packages (from nbconvert<8,>=6.4.5->voila) (1.5.1)\n",
      "Requirement already satisfied: pygments>=2.4.1 in c:\\users\\joe_s\\anaconda3\\envs\\tf\\lib\\site-packages (from nbconvert<8,>=6.4.5->voila) (2.15.1)\n",
      "Requirement already satisfied: tinycss2 in c:\\users\\joe_s\\anaconda3\\envs\\tf\\lib\\site-packages (from nbconvert<8,>=6.4.5->voila) (1.2.1)\n",
      "Requirement already satisfied: idna>=2.8 in c:\\users\\joe_s\\anaconda3\\envs\\tf\\lib\\site-packages (from anyio>=3.1.0->jupyter-server<3,>=2.0.0->voila) (3.4)\n",
      "Requirement already satisfied: sniffio>=1.1 in c:\\users\\joe_s\\anaconda3\\envs\\tf\\lib\\site-packages (from anyio>=3.1.0->jupyter-server<3,>=2.0.0->voila) (1.3.1)\n",
      "Requirement already satisfied: exceptiongroup>=1.0.2 in c:\\users\\joe_s\\anaconda3\\envs\\tf\\lib\\site-packages (from anyio>=3.1.0->jupyter-server<3,>=2.0.0->voila) (1.2.0)\n",
      "Requirement already satisfied: typing-extensions>=4.1 in c:\\users\\joe_s\\anaconda3\\envs\\tf\\lib\\site-packages (from anyio>=3.1.0->jupyter-server<3,>=2.0.0->voila) (4.9.0)\n",
      "Requirement already satisfied: argon2-cffi-bindings in c:\\users\\joe_s\\anaconda3\\envs\\tf\\lib\\site-packages (from argon2-cffi>=21.1->jupyter-server<3,>=2.0.0->voila) (21.2.0)\n",
      "Requirement already satisfied: six>=1.9.0 in c:\\users\\joe_s\\anaconda3\\envs\\tf\\lib\\site-packages (from bleach!=5.0.0->nbconvert<8,>=6.4.5->voila) (1.16.0)\n",
      "Requirement already satisfied: webencodings in c:\\users\\joe_s\\anaconda3\\envs\\tf\\lib\\site-packages (from bleach!=5.0.0->nbconvert<8,>=6.4.5->voila) (0.5.1)\n",
      "Requirement already satisfied: attrs>=22.2.0 in c:\\users\\joe_s\\anaconda3\\envs\\tf\\lib\\site-packages (from jsonschema>=4.18.0->jupyterlab-server<3,>=2.3.0->voila) (23.1.0)\n",
      "Requirement already satisfied: jsonschema-specifications>=2023.03.6 in c:\\users\\joe_s\\anaconda3\\envs\\tf\\lib\\site-packages (from jsonschema>=4.18.0->jupyterlab-server<3,>=2.3.0->voila) (2023.12.1)\n",
      "Requirement already satisfied: referencing>=0.28.4 in c:\\users\\joe_s\\anaconda3\\envs\\tf\\lib\\site-packages (from jsonschema>=4.18.0->jupyterlab-server<3,>=2.3.0->voila) (0.34.0)\n",
      "Requirement already satisfied: rpds-py>=0.7.1 in c:\\users\\joe_s\\anaconda3\\envs\\tf\\lib\\site-packages (from jsonschema>=4.18.0->jupyterlab-server<3,>=2.3.0->voila) (0.18.0)\n",
      "Requirement already satisfied: python-json-logger>=2.0.4 in c:\\users\\joe_s\\anaconda3\\envs\\tf\\lib\\site-packages (from jupyter-events>=0.9.0->jupyter-server<3,>=2.0.0->voila) (2.0.7)\n",
      "Requirement already satisfied: pyyaml>=5.3 in c:\\users\\joe_s\\anaconda3\\envs\\tf\\lib\\site-packages (from jupyter-events>=0.9.0->jupyter-server<3,>=2.0.0->voila) (6.0.1)\n",
      "Requirement already satisfied: rfc3339-validator in c:\\users\\joe_s\\anaconda3\\envs\\tf\\lib\\site-packages (from jupyter-events>=0.9.0->jupyter-server<3,>=2.0.0->voila) (0.1.4)\n",
      "Requirement already satisfied: rfc3986-validator>=0.1.1 in c:\\users\\joe_s\\anaconda3\\envs\\tf\\lib\\site-packages (from jupyter-events>=0.9.0->jupyter-server<3,>=2.0.0->voila) (0.1.1)\n",
      "Requirement already satisfied: fastjsonschema>=2.15 in c:\\users\\joe_s\\anaconda3\\envs\\tf\\lib\\site-packages (from nbformat>=5.3.0->jupyter-server<3,>=2.0.0->voila) (2.19.1)\n",
      "Requirement already satisfied: charset-normalizer<4,>=2 in c:\\users\\joe_s\\anaconda3\\envs\\tf\\lib\\site-packages (from requests>=2.31->jupyterlab-server<3,>=2.3.0->voila) (2.0.4)\n",
      "Requirement already satisfied: urllib3<3,>=1.21.1 in c:\\users\\joe_s\\anaconda3\\envs\\tf\\lib\\site-packages (from requests>=2.31->jupyterlab-server<3,>=2.3.0->voila) (2.1.0)\n",
      "Requirement already satisfied: certifi>=2017.4.17 in c:\\users\\joe_s\\anaconda3\\envs\\tf\\lib\\site-packages (from requests>=2.31->jupyterlab-server<3,>=2.3.0->voila) (2024.7.4)\n",
      "Requirement already satisfied: soupsieve>1.2 in c:\\users\\joe_s\\anaconda3\\envs\\tf\\lib\\site-packages (from beautifulsoup4->nbconvert<8,>=6.4.5->voila) (2.5)\n",
      "Requirement already satisfied: fqdn in c:\\users\\joe_s\\anaconda3\\envs\\tf\\lib\\site-packages (from jsonschema[format-nongpl]>=4.18.0->jupyter-events>=0.9.0->jupyter-server<3,>=2.0.0->voila) (1.5.1)\n",
      "Requirement already satisfied: isoduration in c:\\users\\joe_s\\anaconda3\\envs\\tf\\lib\\site-packages (from jsonschema[format-nongpl]>=4.18.0->jupyter-events>=0.9.0->jupyter-server<3,>=2.0.0->voila) (20.11.0)\n",
      "Requirement already satisfied: jsonpointer>1.13 in c:\\users\\joe_s\\anaconda3\\envs\\tf\\lib\\site-packages (from jsonschema[format-nongpl]>=4.18.0->jupyter-events>=0.9.0->jupyter-server<3,>=2.0.0->voila) (2.4)\n",
      "Requirement already satisfied: uri-template in c:\\users\\joe_s\\anaconda3\\envs\\tf\\lib\\site-packages (from jsonschema[format-nongpl]>=4.18.0->jupyter-events>=0.9.0->jupyter-server<3,>=2.0.0->voila) (1.3.0)\n",
      "Requirement already satisfied: webcolors>=1.11 in c:\\users\\joe_s\\anaconda3\\envs\\tf\\lib\\site-packages (from jsonschema[format-nongpl]>=4.18.0->jupyter-events>=0.9.0->jupyter-server<3,>=2.0.0->voila) (1.13)\n",
      "Requirement already satisfied: cffi>=1.0.1 in c:\\users\\joe_s\\anaconda3\\envs\\tf\\lib\\site-packages (from argon2-cffi-bindings->argon2-cffi>=21.1->jupyter-server<3,>=2.0.0->voila) (1.16.0)\n",
      "Requirement already satisfied: pycparser in c:\\users\\joe_s\\anaconda3\\envs\\tf\\lib\\site-packages (from cffi>=1.0.1->argon2-cffi-bindings->argon2-cffi>=21.1->jupyter-server<3,>=2.0.0->voila) (2.21)\n",
      "Requirement already satisfied: arrow>=0.15.0 in c:\\users\\joe_s\\anaconda3\\envs\\tf\\lib\\site-packages (from isoduration->jsonschema[format-nongpl]>=4.18.0->jupyter-events>=0.9.0->jupyter-server<3,>=2.0.0->voila) (1.3.0)\n",
      "Requirement already satisfied: types-python-dateutil>=2.8.10 in c:\\users\\joe_s\\anaconda3\\envs\\tf\\lib\\site-packages (from arrow>=0.15.0->isoduration->jsonschema[format-nongpl]>=4.18.0->jupyter-events>=0.9.0->jupyter-server<3,>=2.0.0->voila) (2.9.0.20240316)\n",
      "Downloading voila-0.5.7-py3-none-any.whl (3.9 MB)\n",
      "   ---------------------------------------- 0.0/3.9 MB ? eta -:--:--\n",
      "   -------- ------------------------------- 0.9/3.9 MB 18.3 MB/s eta 0:00:01\n",
      "   ----------------------- ---------------- 2.3/3.9 MB 29.4 MB/s eta 0:00:01\n",
      "   ---------------------------------- ----- 3.4/3.9 MB 27.0 MB/s eta 0:00:01\n",
      "   ---------------------------------------- 3.9/3.9 MB 25.1 MB/s eta 0:00:00\n",
      "Downloading websockets-12.0-cp310-cp310-win_amd64.whl (124 kB)\n",
      "   ---------------------------------------- 0.0/125.0 kB ? eta -:--:--\n",
      "   ---------------------------------------- 125.0/125.0 kB ? eta 0:00:00\n",
      "Installing collected packages: websockets, voila\n",
      "Successfully installed voila-0.5.7 websockets-12.0\n"
     ]
    },
    {
     "name": "stderr",
     "output_type": "stream",
     "text": [
      "usage: jupyter [-h] [--version] [--config-dir] [--data-dir] [--runtime-dir]\n",
      "               [--paths] [--json] [--debug]\n",
      "               [subcommand]\n",
      "\n",
      "Jupyter: Interactive Computing\n",
      "\n",
      "positional arguments:\n",
      "  subcommand     the subcommand to launch\n",
      "\n",
      "options:\n",
      "  -h, --help     show this help message and exit\n",
      "  --version      show the versions of core jupyter packages and exit\n",
      "  --config-dir   show Jupyter config dir\n",
      "  --data-dir     show Jupyter data dir\n",
      "  --runtime-dir  show Jupyter runtime dir\n",
      "  --paths        show all Jupyter paths. Add --json for machine-readable\n",
      "                 format.\n",
      "  --json         output paths as machine-readable json\n",
      "  --debug        output debug information about paths\n",
      "\n",
      "Available subcommands: dejavu events execute kernel kernelspec lab\n",
      "labextension labhub migrate nbconvert notebook run server troubleshoot trust\n",
      "\n",
      "Jupyter command `jupyter-serverextension` not found.\n"
     ]
    }
   ],
   "source": [
    "!pip install voila\n",
    "!jupyter serverextension enable --sys-prefix voila"
   ]
  },
  {
   "cell_type": "code",
   "execution_count": 2,
   "id": "ebfb9846-ab1e-4a5a-9b58-509ffab67485",
   "metadata": {},
   "outputs": [
    {
     "name": "stderr",
     "output_type": "stream",
     "text": [
      "C:\\Users\\joe_s\\anaconda3\\envs\\tf\\lib\\site-packages\\torchvision\\io\\image.py:13: UserWarning: Failed to load image Python extension: '[WinError 127] The specified procedure could not be found'If you don't plan on using image functionality from `torchvision.io`, you can ignore this warning. Otherwise, there might be something wrong with your environment. Did you have `libjpeg` or `libpng` installed before building `torchvision` from source?\n",
      "  warn(\n"
     ]
    }
   ],
   "source": [
    "!pip install -Uqq fastbook\n",
    "import fastbook\n",
    "fastbook.setup_book()\n",
    "     \n",
    "\n",
    "#hide\n",
    "from fastbook import *"
   ]
  },
  {
   "cell_type": "code",
   "execution_count": 3,
   "id": "76beb393-91c1-4516-bed5-60bb2d179ffd",
   "metadata": {},
   "outputs": [],
   "source": [
    "from fastcore.all import *"
   ]
  },
  {
   "cell_type": "code",
   "execution_count": 4,
   "id": "b208e32c-ec79-4d94-84ac-fff331c15fd3",
   "metadata": {},
   "outputs": [],
   "source": [
    "from fastai.vision.all import *"
   ]
  },
  {
   "cell_type": "code",
   "execution_count": 5,
   "id": "73185d59-9bc5-4d73-bcc5-4d3ac2858ac6",
   "metadata": {},
   "outputs": [],
   "source": [
    "path = Path()\n",
    "path.ls(file_exts='.pkl')\n",
    "learn_inf = load_learner(path/'export.pkl')\n",
    "from fastai.vision.widgets import *\n",
    "\n",
    "\n",
    "lbl_pred = widgets.Label()\n",
    "\n",
    "out_pl = widgets.Output()\n",
    "\n",
    "\n",
    "btn_run = widgets.Button(description='Classify Now!')\n",
    "\n"
   ]
  },
  {
   "cell_type": "code",
   "execution_count": 6,
   "id": "5f91c297-6b2a-4a57-8c5e-30162d57d3aa",
   "metadata": {},
   "outputs": [],
   "source": [
    "def on_click_classify(change):\n",
    "    #img = PILImage.create(os.path.join('beaver_or_dog_val','dog',btn_upload.value[0].name))\n",
    "    #lbl_pred.value=f'Howdy'\n",
    "    img = PILImage.create(BytesIO(btn_upload.value[0].content))\n",
    "    out_pl.clear_output()\n",
    "    with out_pl: display(img.to_thumb(128,128))\n",
    "    pred,pred_idx,probs = learn_inf.predict(img)\n",
    "    lbl_pred.value = f'The prediction is: {pred}; Probability: {probs[pred_idx]:.04f}'\n",
    "\n",
    "btn_run.on_click(on_click_classify)"
   ]
  },
  {
   "cell_type": "code",
   "execution_count": 7,
   "id": "662f3787-50b4-435d-81c2-badbd89d4e3f",
   "metadata": {},
   "outputs": [],
   "source": [
    "btn_upload=widgets.FileUpload()"
   ]
  },
  {
   "cell_type": "code",
   "execution_count": 8,
   "id": "5933622a-626e-4a18-9724-c74a594ac8ac",
   "metadata": {},
   "outputs": [
    {
     "data": {
      "application/vnd.jupyter.widget-view+json": {
       "model_id": "dcf375babe40416fb5f6860b3c3e7898",
       "version_major": 2,
       "version_minor": 0
      },
      "text/plain": [
       "VBox(children=(Label(value='Select your dog or beaver!'), FileUpload(value=(), description='Upload'), Button(d…"
      ]
     },
     "execution_count": 8,
     "metadata": {},
     "output_type": "execute_result"
    }
   ],
   "source": [
    "\n",
    "\n",
    "VBox([widgets.Label('Select your dog or beaver!'), \n",
    "      btn_upload, btn_run, out_pl, lbl_pred])"
   ]
  },
  {
   "cell_type": "code",
   "execution_count": null,
   "id": "832026b8-fd26-4a96-adc9-f3f30809feb9",
   "metadata": {},
   "outputs": [],
   "source": []
  }
 ],
 "metadata": {
  "kernelspec": {
   "display_name": "Python 3 (ipykernel)",
   "language": "python",
   "name": "python3"
  },
  "language_info": {
   "codemirror_mode": {
    "name": "ipython",
    "version": 3
   },
   "file_extension": ".py",
   "mimetype": "text/x-python",
   "name": "python",
   "nbconvert_exporter": "python",
   "pygments_lexer": "ipython3",
   "version": "3.10.13"
  }
 },
 "nbformat": 4,
 "nbformat_minor": 5
}
